{
 "cells": [
  {
   "cell_type": "code",
   "execution_count": 5,
   "metadata": {},
   "outputs": [
    {
     "name": "stdout",
     "output_type": "stream",
     "text": [
      "Valid Triangle\n"
     ]
    }
   ],
   "source": [
    "def checkValidity(a, b, c):\n",
    "\n",
    "    if (a + b <= c) or (a + c <= b) or (b + c <= a):\n",
    "        return False\n",
    "    else:\n",
    "        return True\n",
    "\n",
    "a = 3\n",
    "b = 4\n",
    "c = 5\n",
    "if checkValidity(a, b, c):\n",
    "    print(\"Valid Triangle\")\n",
    "else:\n",
    "    print(\"Invalid Triangle\")"
   ]
  },
  {
   "cell_type": "code",
   "execution_count": 4,
   "metadata": {},
   "outputs": [
    {
     "name": "stdout",
     "output_type": "stream",
     "text": [
      "Valid Rectangle\n"
     ]
    }
   ],
   "source": [
    "def checkValidity(l1, b1, l2, b2):\n",
    "\n",
    "    if (l1, b1 == l2, b2):\n",
    "        return True\n",
    "    else:\n",
    "        return False\n",
    "\n",
    "l1 = 2\n",
    "b1 = 4\n",
    "l2 = 2\n",
    "b2 = 4\n",
    "\n",
    "if checkValidity(l1, b1, l2, b2):\n",
    "    print(\"Valid Rectangle\")\n",
    "else:\n",
    "    print(\"Invalid Rectangle\")\n",
    "\n"
   ]
  },
  {
   "cell_type": "code",
   "execution_count": null,
   "metadata": {},
   "outputs": [],
   "source": []
  }
 ],
 "metadata": {
  "kernelspec": {
   "display_name": "Python 3.8.0 64-bit",
   "language": "python",
   "name": "python3"
  },
  "language_info": {
   "codemirror_mode": {
    "name": "ipython",
    "version": 3
   },
   "file_extension": ".py",
   "mimetype": "text/x-python",
   "name": "python",
   "nbconvert_exporter": "python",
   "pygments_lexer": "ipython3",
   "version": "3.8.0"
  },
  "orig_nbformat": 4,
  "vscode": {
   "interpreter": {
    "hash": "555446c3263856e8f5cff830610bbf7b0b53ac13b676474c5ccef839f31386ed"
   }
  }
 },
 "nbformat": 4,
 "nbformat_minor": 2
}
